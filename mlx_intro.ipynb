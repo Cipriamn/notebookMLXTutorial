{
 "cells": [
  {
   "cell_type": "markdown",
   "metadata": {},
   "source": [
    "## MLX Core\n",
    "\n",
    "### Arrays\n",
    "\n",
    "#### Initialization and Types\n",
    "- Creating arrays with `zeros`, `ones`, `full`, `arange`, etc.\n",
    "- Data types (`float32`, `int64`, etc.) and type casting\n",
    "- Integration with NumPy/PyTorch-style APIs\n",
    "\n",
    "#### Architecture-Specific Traits\n",
    "- Device-aware computation and memory layout\n",
    "\n",
    "\n"
   ]
  },
  {
   "cell_type": "code",
   "execution_count": 53,
   "metadata": {},
   "outputs": [],
   "source": [
    "import mlx.core as mx\n",
    "import numpy as np\n",
    "import torch"
   ]
  },
  {
   "cell_type": "code",
   "execution_count": 60,
   "metadata": {},
   "outputs": [
    {
     "ename": "AttributeError",
     "evalue": "'array' object has no attribute 'dotprod'",
     "output_type": "error",
     "traceback": [
      "\u001b[0;31m---------------------------------------------------------------------------\u001b[0m",
      "\u001b[0;31mAttributeError\u001b[0m                            Traceback (most recent call last)",
      "Cell \u001b[0;32mIn[60], line 7\u001b[0m\n\u001b[1;32m      3\u001b[0m arr2 \u001b[38;5;241m=\u001b[39m mx\u001b[38;5;241m.\u001b[39marray([\u001b[38;5;241m5\u001b[39m,\u001b[38;5;241m6\u001b[39m,\u001b[38;5;241m7\u001b[39m,\u001b[38;5;241m8\u001b[39m])\n\u001b[1;32m      4\u001b[0m \u001b[38;5;66;03m#Ways of preforming operations functional or similar to numpy\u001b[39;00m\n\u001b[0;32m----> 7\u001b[0m \u001b[38;5;28mprint\u001b[39m(\u001b[43marr1\u001b[49m\u001b[38;5;241;43m.\u001b[39;49m\u001b[43mdotprod\u001b[49m(arr2))\n\u001b[1;32m     11\u001b[0m \u001b[38;5;66;03m#Streaming specific operations\u001b[39;00m\n\u001b[1;32m     12\u001b[0m \n\u001b[1;32m     13\u001b[0m \u001b[38;5;66;03m#Broadcasting\u001b[39;00m\n",
      "\u001b[0;31mAttributeError\u001b[0m: 'array' object has no attribute 'dotprod'"
     ]
    }
   ],
   "source": [
    "\n",
    "\n",
    "#Initializing\n",
    "arr1 = mx.array([1,2,3,4],dtype = mx.int16)\n",
    "arr2 = mx.array([5,6,7,8])\n",
    "print(arr1+arr2)\n",
    "\n",
    "\n",
    "\n",
    "#Ways of preforming operations functional or similar to numpy\n",
    "\n",
    "\n",
    "#Streaming specific operations\n",
    "\n",
    "\n",
    "\n"
   ]
  },
  {
   "cell_type": "markdown",
   "metadata": {},
   "source": [
    "#### Indexing\n",
    "- Basic slicing and indexing\n",
    "- Advanced indexing and broadcasting\n",
    "- Boolean masks and conditional selection\n",
    "\n",
    "#### Saving Arrays\n",
    "- Saving and loading with `mlx.savez`, `mlx.loadz`, etc.\n",
    "- File formats and serialization"
   ]
  },
  {
   "cell_type": "code",
   "execution_count": 26,
   "metadata": {},
   "outputs": [
    {
     "name": "stdout",
     "output_type": "stream",
     "text": [
      "array([20, 50, 80], dtype=int32)\n",
      "array([[40, 50],\n",
      "       [70, 80]], dtype=int32)\n",
      "{'x': array([[10, 20, 30],\n",
      "       [40, 50, 60],\n",
      "       [70, 80, 90]], dtype=int32)}\n"
     ]
    }
   ],
   "source": [
    "\n",
    "# Create a sample 3x3 array\n",
    "x = mx.array([[10, 20, 30],\n",
    "              [40, 50, 60],\n",
    "              [70, 80, 90]])\n",
    "\n",
    "# Slicing\n",
    "print(x[:, 1])         # All rows, column 1 → [20, 50, 80]\n",
    "print(x[1:, :2])       # Rows 1 and 2, columns 0 and 1\n",
    "\n",
    "\n",
    "\n",
    "\n"
   ]
  },
  {
   "cell_type": "markdown",
   "metadata": {},
   "source": [
    "### More Operations and Function Transforms\n",
    "\n",
    "#### More Element-wise Operations\n",
    "- Functions: `mx.exp`, `mx.log`, `mx.sqrt`, `mx.sin`, `mx.abs`, etc.\n",
    "- Clipping: `mx.clip(x, min, max)`\n",
    "\n",
    "#### Reductions\n",
    "- Sum: `mx.sum(x, axis=...)`\n",
    "- Mean: `mx.mean(x, axis=...)`\n",
    "- Standard deviation `mx.std(x)`\n",
    "\n",
    "#### Functional Transforms\n",
    "- Gradients: `mx.grad(fn)` and `mx.value_and_grad(fn)`\n",
    "- Vectorization: `mx.vmap(fn)` for applying a function over a batch\n",
    "\n",
    "#### Type Utilities\n",
    "- Type conversion: `x.astype(mx.float32)` etc."
   ]
  },
  {
   "cell_type": "code",
   "execution_count": 35,
   "metadata": {},
   "outputs": [
    {
     "name": "stdout",
     "output_type": "stream",
     "text": [
      "1 / x for x = 1 to 10: array([2147483647, 1, 0, ..., 0, 0, 0], dtype=int32)\n",
      "Derivative of 1/x at x = 10 (should be ~ -0.01): array([-1, -0.25, -0.111084, ..., -0.015625, -0.0123444, -0.0100021], dtype=float16)\n"
     ]
    }
   ],
   "source": [
    "\n",
    "\n",
    "#Example operations\n",
    "\n",
    "\n",
    "numbers = mx.arange(7)+1\n",
    "i = 3\n",
    "print(f'Factorials {numbers.cumprod()}')\n",
    "\n",
    "\n",
    "# Cosine of evenly spaced multiples of pi\n",
    "pies = mx.pi * mx.arange(8)\n",
    "print(\"Cosine of linear multiples of π:\", mx.cos(pies))\n",
    "\n",
    "\n",
    "\n",
    "# First derivative of log(x) is 1/x\n",
    "inv = mx.grad(mx.log)\n",
    "x_val = mx.array(1 / 10, dtype=mx.float32)\n",
    "print(\"1 / 0.1 =\", inv(x_val))  # Should be ~10.0\n",
    "\n",
    "\n",
    "# Apply 1/x to an array using vmap (skip 0 to avoid division by zero)\n",
    "v_inv = mx.vmap(inv)\n",
    "x_no_zero = x[1:].astype(mx.float16)\n",
    "print(\"1 / x for x = 1 to 10:\", v_inv(x_no_zero))\n",
    "\n",
    "# Second derivative of log(x): d/dx (1/x) = -1/x^2\n",
    "inv_prime = mx.grad(inv)\n",
    "x_10 = mx.array(10, dtype=mx.float32)\n",
    "print(\"Derivative of 1/x at x = 10 (should be ~ -0.01):\", inv_prime(x_10))"
   ]
  },
  {
   "cell_type": "markdown",
   "metadata": {},
   "source": [
    "\n",
    "#### Shape Transformations\n",
    "- Reshape: `mx.reshape(x, new_shape)`\n",
    "- Transpose: `mx.transpose(x, axes=...)`\n",
    "- Expand dims / Squeeze: `mx.expand_dims`, `mx.squeeze`\n",
    "- Concatenate: `mx.concatenate([x, y], axis=...)`\n",
    "- Stack/Unstack: `mx.stack`"
   ]
  },
  {
   "cell_type": "code",
   "execution_count": 78,
   "metadata": {},
   "outputs": [
    {
     "name": "stdout",
     "output_type": "stream",
     "text": [
      "array([[1, 2, 3],\n",
      "       [4, 5, 6],\n",
      "       [7, 8, 9]], dtype=int32)\n"
     ]
    }
   ],
   "source": [
    "x = mx.array([[1,2,3],[4,5,6],[7,8,9]], dtype = mx.float16)\n",
    "\n",
    "\n",
    "x = mx.expand_dims(x,axis = 2)\n",
    "\n",
    "\n",
    "arr1 = mx.array([1,2,3])\n",
    "arr2 = mx.array([4,5,6])\n",
    "arr3 = mx.array([7,8,9])\n",
    "stack = mx.stack([arr1,arr2,arr3])\n",
    "print(stack)\n"
   ]
  },
  {
   "cell_type": "markdown",
   "metadata": {},
   "source": [
    "#### Linear Algebra (most operations are only suported on the cpu)\n",
    "- Matrix Multiplication: `mx.matmul(x,y)` (*supported on gpu)\n",
    "- Inverse: `mx.linalg.inverse(x)`\n",
    "- Eigenvalues: `mx.linalg.eigvals(x)`\n",
    "- Solution: `mx.linalg.solve(x)`"
   ]
  },
  {
   "cell_type": "code",
   "execution_count": 30,
   "metadata": {},
   "outputs": [
    {
     "name": "stdout",
     "output_type": "stream",
     "text": [
      "Solution to Ax = x_input:\n",
      " array([1, 1], dtype=float32)\n"
     ]
    }
   ],
   "source": [
    "### Matrix Inversion and Linear Algebra in MLX\n",
    "\n",
    "import mlx.core as mx\n",
    "\n",
    "# Define a 2x2 matrix\n",
    "A = mx.array([[4, 7],\n",
    "              [2, 6]], dtype=mx.float32)\n",
    "\n",
    "# Define the 2x2 identity matrix\n",
    "I_2 = mx.array([[1, 0],\n",
    "              [0, 1]], dtype=mx.float32)\n",
    "\n",
    "# Identity Check: A * I == A\n",
    "print(\"A * I == A:\", mx.all(A == A @ I_2).item())\n",
    "\n",
    "# Inverse of A (executed on CPU)\n",
    "A_inv = mx.linalg.inv(A, stream=mx.cpu)\n",
    "print(\"Inverse of A:\\n\", A_inv)\n",
    "\n",
    "# Eigenvalues and Eigenvectors (on CPU)\n",
    "eigvals = mx.linalg.eigvals(A, stream=mx.cpu)\n",
    "eigvecs = mx.linalg.eigh(A, stream=mx.cpu)\n",
    "print(\"Eigenvalues of A:\\n\", eigvals)\n",
    "print(\"Eigenvectors of A:\\n\", eigvecs)\n",
    "\n",
    "# Solving Ax = x_input\n",
    "x_input = mx.array([11, 8], dtype=mx.float32)\n",
    "solution = mx.linalg.solve(A, x_input, stream=mx.cpu)\n",
    "print(\"Solution to Ax = x_input:\\n\", solution)\n",
    "\n"
   ]
  },
  {
   "cell_type": "markdown",
   "metadata": {},
   "source": [
    "#### Random\n",
    "\n",
    "MLX provides a set of random utilities through `mx.random` for generating synthetic data or initializing parameters.\n",
    "\n"
   ]
  },
  {
   "cell_type": "code",
   "execution_count": null,
   "metadata": {},
   "outputs": [
    {
     "name": "stdout",
     "output_type": "stream",
     "text": [
      "Normal Sample:\n",
      " array([[-0.0508169, -0.0931067, -1.01645, ..., 1.863, -0.449933, 1.01031],\n",
      "       [0.166746, -1.57743, -1.34337, ..., -0.71716, 1.34559, 0.627446],\n",
      "       [0.516814, 0.204601, -1.56062, ..., 1.11553, -1.98048, -1.21891]], dtype=float32)\n",
      "Uniform Sample:\n",
      " array([[0.180577, 0.680501, 0.0474317, 0.0760371],\n",
      "       [0.254368, 0.00757401, 0.0902404, 0.207927]], dtype=float32)\n",
      "Random Integers:\n",
      " array([[0, 1, 1],\n",
      "       [6, 8, 9]], dtype=int32)\n",
      "tensor([1, 2, 3])\n"
     ]
    }
   ],
   "source": [
    "\n",
    "\n",
    "# Normal distribution(default parameters:mean=0, std=1): \n",
    "normal_sample = mx.random.normal(shape=(3, 20))\n",
    "print(\"Normal Sample:\\n\", normal_sample)\n",
    "\n",
    "# Uniform distribution(default range [0.0, 1.0)): \n",
    "uniform_sample = mx.random.uniform(shape=(2, 4))\n",
    "print(\"Uniform Sample:\\n\", uniform_sample)\n",
    "\n",
    "# Set a random seed for reproducibility\n",
    "mx.random.seed(123)\n",
    "\n",
    "# Integer sampling with numpy (for discrete labels, etc.)\n",
    "random_ints = mx.random.randint(low=0, high=10, shape=(2, 3))\n",
    "print(\"Random Integers:\\n\", random_ints)\n",
    "\n"
   ]
  },
  {
   "cell_type": "code",
   "execution_count": null,
   "metadata": {},
   "outputs": [],
   "source": []
  }
 ],
 "metadata": {
  "kernelspec": {
   "display_name": "Python 3.11 (env3.11_new)",
   "language": "python",
   "name": "env3.11_new"
  },
  "language_info": {
   "codemirror_mode": {
    "name": "ipython",
    "version": 3
   },
   "file_extension": ".py",
   "mimetype": "text/x-python",
   "name": "python",
   "nbconvert_exporter": "python",
   "pygments_lexer": "ipython3",
   "version": "3.11.11"
  }
 },
 "nbformat": 4,
 "nbformat_minor": 2
}
